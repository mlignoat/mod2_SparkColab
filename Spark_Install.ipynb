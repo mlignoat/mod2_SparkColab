{
  "nbformat": 4,
  "nbformat_minor": 0,
  "metadata": {
    "colab": {
      "provenance": [],
      "authorship_tag": "ABX9TyMJCImMnT31xzmWZybTkazG",
      "include_colab_link": true
    },
    "kernelspec": {
      "name": "python3",
      "display_name": "Python 3"
    },
    "language_info": {
      "name": "python"
    }
  },
  "cells": [
    {
      "cell_type": "markdown",
      "metadata": {
        "id": "view-in-github",
        "colab_type": "text"
      },
      "source": [
        "<a href=\"https://colab.research.google.com/github/mlignoat/mod2_SparkColab/blob/main/Spark_Install.ipynb\" target=\"_parent\"><img src=\"https://colab.research.google.com/assets/colab-badge.svg\" alt=\"Open In Colab\"/></a>"
      ]
    },
    {
      "cell_type": "code",
      "source": [
        "!apt-get install openjdk-8-jdk-headless -qq > /dev/null"
      ],
      "metadata": {
        "id": "Pn3WtDy5o9u7"
      },
      "execution_count": 2,
      "outputs": []
    },
    {
      "cell_type": "code",
      "source": [
        "!pip install pyspark==3.3.2"
      ],
      "metadata": {
        "colab": {
          "base_uri": "https://localhost:8080/"
        },
        "id": "6BsFsqgSpQE0",
        "outputId": "813d82c3-56a7-4eb6-f43a-9d8a70492f9c"
      },
      "execution_count": 16,
      "outputs": [
        {
          "output_type": "stream",
          "name": "stdout",
          "text": [
            "Looking in indexes: https://pypi.org/simple, https://us-python.pkg.dev/colab-wheels/public/simple/\n",
            "Requirement already satisfied: pyspark==3.3.2 in /usr/local/lib/python3.9/dist-packages (3.3.2)\n",
            "Requirement already satisfied: py4j==0.10.9.5 in /usr/local/lib/python3.9/dist-packages (from pyspark==3.3.2) (0.10.9.5)\n"
          ]
        }
      ]
    },
    {
      "cell_type": "code",
      "source": [
        "!apt-get install openjdk-8-jdk-headless -qq > /dev/null"
      ],
      "metadata": {
        "id": "ruVkSRhTpTad"
      },
      "execution_count": 17,
      "outputs": []
    },
    {
      "cell_type": "code",
      "source": [
        "!wget -q https://dlcdn.apache.org/spark/spark-3.3.2/spark-3.3.2-bin-hadoop3.tgz"
      ],
      "metadata": {
        "id": "J4iT8JOiqNFM"
      },
      "execution_count": 18,
      "outputs": []
    },
    {
      "cell_type": "code",
      "source": [
        "!tar xf spark-3.3.2-bin-hadoop3.tgz"
      ],
      "metadata": {
        "id": "4-QfeDx-qT05"
      },
      "execution_count": 19,
      "outputs": []
    },
    {
      "cell_type": "code",
      "source": [
        "!pip install -q findspark"
      ],
      "metadata": {
        "id": "9rqVf0Mtq2m-"
      },
      "execution_count": 20,
      "outputs": []
    },
    {
      "cell_type": "code",
      "source": [
        "import os\n",
        "os.environ[\"JAVA_HOME\"] = \"/usr/lib/jvm/java-8-openjdk-amd64\"\n",
        "os.environ[\"SPARK_HOME\"] = \"/content/spark-3.3.2-bin-hadoop3\""
      ],
      "metadata": {
        "id": "b-ftJO3urBzJ"
      },
      "execution_count": 25,
      "outputs": []
    },
    {
      "cell_type": "code",
      "source": [
        "import findspark\n",
        "findspark.init()"
      ],
      "metadata": {
        "id": "bJhc87YMrDHm"
      },
      "execution_count": 26,
      "outputs": []
    },
    {
      "cell_type": "code",
      "source": [
        "from pyspark.sql import SparkSession"
      ],
      "metadata": {
        "id": "KGA8FT8brIzG"
      },
      "execution_count": 27,
      "outputs": []
    },
    {
      "cell_type": "code",
      "source": [
        "spark = SparkSession.builder \\\n",
        "    .master('local[*]') \\\n",
        "    .appName('Iniciando com Spark') \\\n",
        "    .config('spark.ui.port', '4050') \\\n",
        "    .getOrCreate()"
      ],
      "metadata": {
        "id": "TC3w_Ca2rMM6"
      },
      "execution_count": 28,
      "outputs": []
    },
    {
      "cell_type": "code",
      "source": [
        "spark"
      ],
      "metadata": {
        "colab": {
          "base_uri": "https://localhost:8080/",
          "height": 219
        },
        "id": "OkhviAD1scu_",
        "outputId": "03cc5f5e-1d66-458d-84dd-de9be3d2c6a6"
      },
      "execution_count": 29,
      "outputs": [
        {
          "output_type": "execute_result",
          "data": {
            "text/plain": [
              "<pyspark.sql.session.SparkSession at 0x7fab6d10aa60>"
            ],
            "text/html": [
              "\n",
              "            <div>\n",
              "                <p><b>SparkSession - in-memory</b></p>\n",
              "                \n",
              "        <div>\n",
              "            <p><b>SparkContext</b></p>\n",
              "\n",
              "            <p><a href=\"http://291d665450e0:4050\">Spark UI</a></p>\n",
              "\n",
              "            <dl>\n",
              "              <dt>Version</dt>\n",
              "                <dd><code>v3.3.2</code></dd>\n",
              "              <dt>Master</dt>\n",
              "                <dd><code>local[*]</code></dd>\n",
              "              <dt>AppName</dt>\n",
              "                <dd><code>Iniciando com Spark</code></dd>\n",
              "            </dl>\n",
              "        </div>\n",
              "        \n",
              "            </div>\n",
              "        "
            ]
          },
          "metadata": {},
          "execution_count": 29
        }
      ]
    },
    {
      "cell_type": "code",
      "source": [
        "df_titles = spark.read.csv('title_basics.tsv', header=True,inferSchema=True, sep='\\t')"
      ],
      "metadata": {
        "id": "TtvhlO1TsgYo"
      },
      "execution_count": 90,
      "outputs": []
    },
    {
      "cell_type": "code",
      "source": [
        "df_ratings = spark.read.csv('title_ratings.tsv', header=True,inferSchema=True, sep='\\t')"
      ],
      "metadata": {
        "id": "hoiuJdTLtFTU"
      },
      "execution_count": 102,
      "outputs": []
    },
    {
      "cell_type": "code",
      "source": [
        "df_title_ratings = df_titles.join(df_ratings, on='tconst')"
      ],
      "metadata": {
        "id": "41Xyr4G4RFOK"
      },
      "execution_count": 189,
      "outputs": []
    },
    {
      "cell_type": "code",
      "source": [
        "df_titles.printSchema()"
      ],
      "metadata": {
        "colab": {
          "base_uri": "https://localhost:8080/"
        },
        "id": "_fsoQIQovDG7",
        "outputId": "41127449-a6d9-4f4f-a004-c02df8db60d1"
      },
      "execution_count": 104,
      "outputs": [
        {
          "output_type": "stream",
          "name": "stdout",
          "text": [
            "root\n",
            " |-- tconst: string (nullable = true)\n",
            " |-- titleType: string (nullable = true)\n",
            " |-- primaryTitle: string (nullable = true)\n",
            " |-- originalTitle: string (nullable = true)\n",
            " |-- isAdult: string (nullable = true)\n",
            " |-- startYear: string (nullable = true)\n",
            " |-- endYear: string (nullable = true)\n",
            " |-- runtimeMinutes: string (nullable = true)\n",
            " |-- genres: string (nullable = true)\n",
            "\n"
          ]
        }
      ]
    },
    {
      "cell_type": "code",
      "source": [
        "df_titles.createOrReplaceTempView('tb_titles')"
      ],
      "metadata": {
        "id": "gcgsV7661Qxg"
      },
      "execution_count": 92,
      "outputs": []
    },
    {
      "cell_type": "code",
      "source": [
        "df_ratings.printSchema()"
      ],
      "metadata": {
        "colab": {
          "base_uri": "https://localhost:8080/"
        },
        "id": "UYQLFmvhtWZj",
        "outputId": "f4f6079d-007a-4a68-824e-f0164a63042d"
      },
      "execution_count": 103,
      "outputs": [
        {
          "output_type": "stream",
          "name": "stdout",
          "text": [
            "root\n",
            " |-- tconst: string (nullable = true)\n",
            " |-- averageRating: double (nullable = true)\n",
            " |-- numVotes: integer (nullable = true)\n",
            "\n"
          ]
        }
      ]
    },
    {
      "cell_type": "code",
      "source": [
        "df_ratings.filter(\"numVotes > 0\").show()"
      ],
      "metadata": {
        "colab": {
          "base_uri": "https://localhost:8080/"
        },
        "id": "WM0a8WZK4QJu",
        "outputId": "99d57869-966a-4fed-d13b-a26b4f87623a"
      },
      "execution_count": 55,
      "outputs": [
        {
          "output_type": "stream",
          "name": "stdout",
          "text": [
            "+---------+-------------+--------+\n",
            "|   tconst|averageRating|numVotes|\n",
            "+---------+-------------+--------+\n",
            "|tt0000001|          5.7|    1809|\n",
            "|tt0000002|          6.0|     233|\n",
            "|tt0000003|          6.5|    1560|\n",
            "|tt0000004|          6.1|     152|\n",
            "|tt0000005|          6.2|    2383|\n",
            "|tt0000006|          5.1|     157|\n",
            "|tt0000007|          5.4|     746|\n",
            "|tt0000008|          5.5|    1965|\n",
            "|tt0000009|          5.8|     189|\n",
            "|tt0000010|          6.9|    6530|\n",
            "|tt0000011|          5.2|     323|\n",
            "|tt0000012|          7.4|   11188|\n",
            "|tt0000013|          5.8|    1726|\n",
            "|tt0000014|          7.1|    5023|\n",
            "|tt0000015|          6.2|     947|\n",
            "|tt0000016|          5.9|    1325|\n",
            "|tt0000017|          4.6|     292|\n",
            "|tt0000018|          5.3|     537|\n",
            "|tt0000019|          5.3|      28|\n",
            "|tt0000020|          5.0|     315|\n",
            "+---------+-------------+--------+\n",
            "only showing top 20 rows\n",
            "\n"
          ]
        }
      ]
    },
    {
      "cell_type": "code",
      "source": [
        "display(df_ratings)"
      ],
      "metadata": {
        "colab": {
          "base_uri": "https://localhost:8080/",
          "height": 34
        },
        "id": "c-kyf6XB2EuK",
        "outputId": "e305076a-ebf0-43f2-cd34-bbc086ad055f"
      },
      "execution_count": 100,
      "outputs": [
        {
          "output_type": "display_data",
          "data": {
            "text/plain": [
              "DataFrame[tconst: string, averageRating: string, numVotes: string]"
            ]
          },
          "metadata": {}
        }
      ]
    },
    {
      "cell_type": "code",
      "source": [
        "df_ratings.createOrReplaceTempView('tb_ratings')"
      ],
      "metadata": {
        "id": "3-_HSb3vvLTl"
      },
      "execution_count": 93,
      "outputs": []
    },
    {
      "cell_type": "code",
      "source": [
        "spark.sql \\\n",
        "(\"select  \\\n",
        "*  from  \\\n",
        "tb_ratings a,\\\n",
        "tb_titles b \\\n",
        " where \\\n",
        " a.tconst = b.tconst \\\n",
        " \").show()"
      ],
      "metadata": {
        "colab": {
          "base_uri": "https://localhost:8080/"
        },
        "id": "naEn7Izk1YiS",
        "outputId": "7fcd5851-50f5-42bb-c7b0-a233d9af08d7"
      },
      "execution_count": 71,
      "outputs": [
        {
          "output_type": "stream",
          "name": "stdout",
          "text": [
            "+---------+-------------+--------+---------+---------+--------------------+--------------------+-------+---------+-------+--------------+--------------------+\n",
            "|   tconst|averageRating|numVotes|   tconst|titleType|        primaryTitle|       originalTitle|isAdult|startYear|endYear|runtimeMinutes|              genres|\n",
            "+---------+-------------+--------+---------+---------+--------------------+--------------------+-------+---------+-------+--------------+--------------------+\n",
            "|tt0000002|          6.0|     233|tt0000002|    short|Le clown et ses c...|Le clown et ses c...|      0|     1892|     \\N|             5|     Animation,Short|\n",
            "|tt0000004|          6.1|     152|tt0000004|    short|         Un bon bock|         Un bon bock|      0|     1892|     \\N|            12|     Animation,Short|\n",
            "|tt0000008|          5.5|    1965|tt0000008|    short|Edison Kinetoscop...|Edison Kinetoscop...|      0|     1894|     \\N|             1|   Documentary,Short|\n",
            "|tt0000010|          6.9|    6530|tt0000010|    short| Leaving the Factory|La sortie de l'us...|      0|     1895|     \\N|             1|   Documentary,Short|\n",
            "|tt0000013|          5.8|    1726|tt0000013|    short|The Photographica...|Le débarquement d...|      0|     1895|     \\N|             1|   Documentary,Short|\n",
            "|tt0000015|          6.2|     947|tt0000015|    short| Autour d'une cabine| Autour d'une cabine|      0|     1894|     \\N|             2|     Animation,Short|\n",
            "|tt0000017|          4.6|     292|tt0000017|    short|Italienischer Bau...|Italienischer Bau...|      0|     1895|     \\N|             1|   Documentary,Short|\n",
            "|tt0000019|          5.3|      28|tt0000019|    short|    The Clown Barber|    The Clown Barber|      0|     1898|     \\N|            \\N|        Comedy,Short|\n",
            "|tt0000022|          5.1|     993|tt0000022|    short|    Blacksmith Scene|       Les forgerons|      0|     1895|     \\N|             1|   Documentary,Short|\n",
            "|tt0000027|          5.6|    1033|tt0000027|    short|Cordeliers' Squar...|Place des Cordeli...|      0|     1895|     \\N|             1|   Documentary,Short|\n",
            "|tt0000028|          5.2|     960|tt0000028|    short|Fishing for Goldfish|La pêche aux pois...|      0|     1895|     \\N|             1|   Documentary,Short|\n",
            "|tt0000029|          6.0|    3093|tt0000029|    short|         Baby's Meal|       Repas de bébé|      0|     1895|     \\N|             1|   Documentary,Short|\n",
            "|tt0000030|          5.2|     768|tt0000030|    short|  Rough Sea at Dover|  Rough Sea at Dover|      0|     1895|     \\N|             1|   Documentary,Short|\n",
            "|tt0000032|          5.0|     378|tt0000032|    short|Die Serpentintänz...|Die Serpentintänz...|      0|     1895|     \\N|             1|               Short|\n",
            "|tt0000033|          5.6|     938|tt0000033|    short|  Horse Trick Riders|          La voltige|      0|     1895|     \\N|             1|Comedy,Documentar...|\n",
            "|tt0000035|          5.5|      73|tt0000035|    short|Watering the Flowers|          L'arroseur|      0|     1896|     \\N|             1|        Comedy,Short|\n",
            "|tt0000036|          4.4|     565|tt0000036|    short|    Awakening of Rip|    Awakening of Rip|      0|     1896|     \\N|             0|         Drama,Short|\n",
            "|tt0000037|          4.6|      55|tt0000037|    short|         Sea Bathing|     Baignade en mer|      0|     1896|     \\N|             1|               Short|\n",
            "|tt0000038|          4.2|     183|tt0000038|    short|       The Ball Game|       The Ball Game|      0|     1898|     \\N|            \\N|Documentary,Short...|\n",
            "|tt0000039|          3.6|      24|tt0000039|    short|   Barnet Horse Fair|   Barnet Horse Fair|      0|     1896|     \\N|            \\N|               Short|\n",
            "+---------+-------------+--------+---------+---------+--------------------+--------------------+-------+---------+-------+--------------+--------------------+\n",
            "only showing top 20 rows\n",
            "\n"
          ]
        }
      ]
    },
    {
      "cell_type": "code",
      "source": [
        "# Join tables         \n",
        "spark.sql \\\n",
        "(\"select  \\\n",
        "Count(*)  from  \\\n",
        "tb_ratings a,\\\n",
        "tb_titles b \\\n",
        " where \\\n",
        " a.tconst = b.tconst \\\n",
        " \").show()"
      ],
      "metadata": {
        "colab": {
          "base_uri": "https://localhost:8080/"
        },
        "id": "dXH0Vyt96Q8N",
        "outputId": "efcdd7b6-05ad-4762-de28-30aa0c510ec6"
      },
      "execution_count": 111,
      "outputs": [
        {
          "output_type": "stream",
          "name": "stdout",
          "text": [
            "+--------+\n",
            "|count(1)|\n",
            "+--------+\n",
            "| 1182639|\n",
            "+--------+\n",
            "\n"
          ]
        }
      ]
    },
    {
      "cell_type": "code",
      "source": [
        "# Count table title         \n",
        "spark.sql \\\n",
        "(\"select  \\\n",
        "Count(*)  from  \\\n",
        "tb_titles  \\\n",
        " \").show()"
      ],
      "metadata": {
        "colab": {
          "base_uri": "https://localhost:8080/"
        },
        "id": "g0cHcgT_6_9E",
        "outputId": "dc23b097-fec6-439b-adba-65ec771071cd"
      },
      "execution_count": 106,
      "outputs": [
        {
          "output_type": "stream",
          "name": "stdout",
          "text": [
            "+--------+\n",
            "|count(1)|\n",
            "+--------+\n",
            "| 8203690|\n",
            "+--------+\n",
            "\n"
          ]
        }
      ]
    },
    {
      "cell_type": "code",
      "source": [
        "spark.sql \\\n",
        "(\"select distinct titleType \\\n",
        " from  \\\n",
        "tb_titles  \\\n",
        " \").show()"
      ],
      "metadata": {
        "colab": {
          "base_uri": "https://localhost:8080/"
        },
        "id": "3gAKzvYz-Lxs",
        "outputId": "0770d053-c860-4398-d4ba-ef1a21841e79"
      },
      "execution_count": 109,
      "outputs": [
        {
          "output_type": "stream",
          "name": "stdout",
          "text": [
            "+------------+\n",
            "|   titleType|\n",
            "+------------+\n",
            "|    tvSeries|\n",
            "|tvMiniSeries|\n",
            "|     tvMovie|\n",
            "|   tvEpisode|\n",
            "|       movie|\n",
            "|   tvSpecial|\n",
            "|       video|\n",
            "|   videoGame|\n",
            "|     tvShort|\n",
            "|       short|\n",
            "|     tvPilot|\n",
            "| radioSeries|\n",
            "|radioEpisode|\n",
            "+------------+\n",
            "\n"
          ]
        }
      ]
    },
    {
      "cell_type": "code",
      "source": [
        "spark.sql \\\n",
        "(\"select distinct genres \\\n",
        " from  \\\n",
        "tb_titles  \\\n",
        " \").show()"
      ],
      "metadata": {
        "colab": {
          "base_uri": "https://localhost:8080/"
        },
        "id": "fDxl_sgz_BPF",
        "outputId": "fed82ac0-6503-4348-bdb8-623333f4d3c4"
      },
      "execution_count": 116,
      "outputs": [
        {
          "output_type": "stream",
          "name": "stdout",
          "text": [
            "+--------------------+\n",
            "|              genres|\n",
            "+--------------------+\n",
            "|        Comedy,Sport|\n",
            "|  Action,War,Western|\n",
            "|Action,Adventure,...|\n",
            "|Documentary,Drama...|\n",
            "|Adult,Comedy,Musical|\n",
            "|  Crime,Horror,Short|\n",
            "|Animation,Sci-Fi,War|\n",
            "|Documentary,News,...|\n",
            "| Adult,Horror,Sci-Fi|\n",
            "|Fantasy,Horror,Mu...|\n",
            "|  Action,Adult,Short|\n",
            "| Music,Musical,Short|\n",
            "|Animation,Sport,T...|\n",
            "|Action,Reality-TV...|\n",
            "| Documentary,Western|\n",
            "|Adventure,Family,...|\n",
            "|Comedy,Drama,Western|\n",
            "|Game-Show,Reality-TV|\n",
            "|Biography,Reality...|\n",
            "|Action,Animation,War|\n",
            "+--------------------+\n",
            "only showing top 20 rows\n",
            "\n"
          ]
        }
      ]
    },
    {
      "cell_type": "code",
      "source": [
        "# Quantos filmes (incluindo os da televisão) foram lançados no ano de 2015?           \n",
        "spark.sql \\\n",
        "(\"select count(*) \\\n",
        " from  \\\n",
        "tb_titles  \\\n",
        "where startYear = 2015 \\\n",
        "and titleType in ('movie','tvMovie')  \\\n",
        " \").show()"
      ],
      "metadata": {
        "colab": {
          "base_uri": "https://localhost:8080/"
        },
        "id": "so4E_g0z7lSB",
        "outputId": "bd237e25-3fef-4e5c-add1-31d1919a9542"
      },
      "execution_count": 110,
      "outputs": [
        {
          "output_type": "stream",
          "name": "stdout",
          "text": [
            "+--------+\n",
            "|count(1)|\n",
            "+--------+\n",
            "|   19987|\n",
            "+--------+\n",
            "\n"
          ]
        }
      ]
    },
    {
      "cell_type": "code",
      "source": [
        "# Qual o gênero de títulos mais frequente?          \n",
        "spark.sql \\\n",
        "(\"select count(*),genres   \\\n",
        " from  \\\n",
        "tb_titles  \\\n",
        "group by genres \\\n",
        "order by 1  desc \\\n",
        "LIMIT 1 \\\n",
        " \").show()"
      ],
      "metadata": {
        "colab": {
          "base_uri": "https://localhost:8080/"
        },
        "id": "clagPtwH-9je",
        "outputId": "22c44f64-8dc7-4bf9-d7c7-d485dc1e4834"
      },
      "execution_count": 127,
      "outputs": [
        {
          "output_type": "stream",
          "name": "stdout",
          "text": [
            "+--------+------+\n",
            "|count(1)|genres|\n",
            "+--------+------+\n",
            "|  880649| Drama|\n",
            "+--------+------+\n",
            "\n"
          ]
        }
      ]
    },
    {
      "cell_type": "code",
      "source": [
        "# Qual o gênero com a melhor nota média de títulos?      \n",
        "spark.sql \\\n",
        "(\"select  \\\n",
        "avg(averageRating),genres from  \\\n",
        "tb_ratings a,\\\n",
        "tb_titles b \\\n",
        "where \\\n",
        "a.tconst = b.tconst \\\n",
        "group by genres \\\n",
        "order by 1  desc \\\n",
        "LIMIT 10 \\\n",
        "\").show()"
      ],
      "metadata": {
        "colab": {
          "base_uri": "https://localhost:8080/"
        },
        "id": "BdT4MSqVDH9G",
        "outputId": "9bcd85f7-3f01-48d9-c3ec-d4d208c42f71"
      },
      "execution_count": 138,
      "outputs": [
        {
          "output_type": "stream",
          "name": "stdout",
          "text": [
            "+------------------+--------------------+\n",
            "|avg(averageRating)|              genres|\n",
            "+------------------+--------------------+\n",
            "|               9.8|Comedy,History,We...|\n",
            "|               9.8|Biography,Comedy,...|\n",
            "|               9.7|News,Reality-TV,S...|\n",
            "| 9.409756097560976|Music,Musical,Tal...|\n",
            "| 9.406666666666666|Adventure,Music,M...|\n",
            "| 9.290476190476191|Comedy,Game-Show,...|\n",
            "|              9.25|Biography,Crime,R...|\n",
            "| 9.209999999999999|Biography,Reality...|\n",
            "|               9.2|Comedy,Fantasy,Ga...|\n",
            "|               9.2|Horror,News,Talk-...|\n",
            "+------------------+--------------------+\n",
            "\n"
          ]
        }
      ]
    },
    {
      "cell_type": "code",
      "source": [
        "# Qual o gênero com a melhor nota média de títulos?      \n",
        "spark.sql \\\n",
        "(\"select  \\\n",
        "avg(averageRating),genres from  \\\n",
        "tb_ratings a,\\\n",
        "tb_titles b \\\n",
        "where \\\n",
        "a.tconst = b.tconst \\\n",
        "group by genres \\\n",
        "order by 1  desc \\\n",
        "LIMIT 10 \\\n",
        "\").show()"
      ],
      "metadata": {
        "id": "iOf8xXs1FTTu"
      },
      "execution_count": null,
      "outputs": []
    },
    {
      "cell_type": "code",
      "source": [
        "spark.sql \\\n",
        "(\"select distinct count(tconst) \\\n",
        " from  \\\n",
        "tb_titles  \\\n",
        " \").show()"
      ],
      "metadata": {
        "colab": {
          "base_uri": "https://localhost:8080/"
        },
        "id": "87IPE4vAFcwb",
        "outputId": "132152a9-c05f-4573-8cef-668e96363fae"
      },
      "execution_count": 147,
      "outputs": [
        {
          "output_type": "stream",
          "name": "stdout",
          "text": [
            "+-------------+\n",
            "|count(tconst)|\n",
            "+-------------+\n",
            "|      8203690|\n",
            "+-------------+\n",
            "\n"
          ]
        }
      ]
    },
    {
      "cell_type": "code",
      "source": [
        "print(\"Distinct Count: \" + str(df_titles.distinct().count()))"
      ],
      "metadata": {
        "colab": {
          "base_uri": "https://localhost:8080/"
        },
        "id": "jxLq-EN9G86w",
        "outputId": "4bf1b83a-b072-4a2f-c1b7-428e5440b0fa"
      },
      "execution_count": 146,
      "outputs": [
        {
          "output_type": "stream",
          "name": "stdout",
          "text": [
            "Distinct Count: 8203690\n"
          ]
        }
      ]
    },
    {
      "cell_type": "code",
      "source": [
        "# Qual a duração média dos filmes com conteúdo adulto? Use uma combinação de filter() e describe().   \n",
        "spark.sql \\\n",
        "(\"select  \\\n",
        "avg(runtimeMinutes) from  \\\n",
        "tb_titles b \\\n",
        "where \\\n",
        "b.isAdult = '1' \\\n",
        "LIMIT 10 \\\n",
        "\").show()"
      ],
      "metadata": {
        "colab": {
          "base_uri": "https://localhost:8080/"
        },
        "id": "Gso2qqqrH7D-",
        "outputId": "94825120-0bb8-4179-aa32-5d1f1ca460db"
      },
      "execution_count": 153,
      "outputs": [
        {
          "output_type": "stream",
          "name": "stdout",
          "text": [
            "+-------------------+\n",
            "|avg(runtimeMinutes)|\n",
            "+-------------------+\n",
            "|  92.79938555059914|\n",
            "+-------------------+\n",
            "\n"
          ]
        }
      ]
    },
    {
      "cell_type": "code",
      "source": [
        "spark.sql \\\n",
        "(\"select distinct primaryTitle \\\n",
        " from  \\\n",
        "tb_titles  \\\n",
        " \").show()"
      ],
      "metadata": {
        "colab": {
          "base_uri": "https://localhost:8080/"
        },
        "id": "0ih1iX4uJOcS",
        "outputId": "3cbf2172-f96a-4431-f966-81ed4740fa71"
      },
      "execution_count": 154,
      "outputs": [
        {
          "output_type": "stream",
          "name": "stdout",
          "text": [
            "+--------------------+\n",
            "|        primaryTitle|\n",
            "+--------------------+\n",
            "|La gare Saint-Lazare|\n",
            "|     The X-Ray Fiend|\n",
            "|La descente de croix|\n",
            "|   Une rage de dents|\n",
            "|The Story of the ...|\n",
            "|    The Prussian Spy|\n",
            "|        Two Memories|\n",
            "|      The Wrong Coat|\n",
            "|The Crime of a Gr...|\n",
            "|     Dutch Gold Mine|\n",
            "|In the Sultan's G...|\n",
            "|The Meeting of th...|\n",
            "|         Mike's Hero|\n",
            "|When Two Hearts A...|\n",
            "|    Master and Pupil|\n",
            "|          Quo Vadis?|\n",
            "|   Delayed Proposals|\n",
            "|The Law and the O...|\n",
            "|  Youth and Jealousy|\n",
            "|Dance of the Vampire|\n",
            "+--------------------+\n",
            "only showing top 20 rows\n",
            "\n"
          ]
        }
      ]
    },
    {
      "cell_type": "code",
      "source": [
        "spark.sql \\\n",
        "(\"select distinct originalTitle \\\n",
        " from  \\\n",
        "tb_titles  \\\n",
        " \").show()"
      ],
      "metadata": {
        "colab": {
          "base_uri": "https://localhost:8080/"
        },
        "id": "tuEV8Dbg-u_8",
        "outputId": "d1c91b3f-dd03-4524-d313-3411e9f70290"
      },
      "execution_count": 155,
      "outputs": [
        {
          "output_type": "stream",
          "name": "stdout",
          "text": [
            "+--------------------+\n",
            "|       originalTitle|\n",
            "+--------------------+\n",
            "|La gare Saint-Lazare|\n",
            "|Les quais à Marse...|\n",
            "|     The X-Ray Fiend|\n",
            "|La descente de croix|\n",
            "|   Une rage de dents|\n",
            "|The Story of the ...|\n",
            "|    The Prussian Spy|\n",
            "|        Two Memories|\n",
            "|      The Wrong Coat|\n",
            "|     Dutch Gold Mine|\n",
            "|In the Sultan's G...|\n",
            "|The Meeting of th...|\n",
            "|         Mike's Hero|\n",
            "|When Two Hearts A...|\n",
            "|    Master and Pupil|\n",
            "|          Quo Vadis?|\n",
            "|   Delayed Proposals|\n",
            "|The Law and the O...|\n",
            "|  Youth and Jealousy|\n",
            "|  Elizabeth's Prayer|\n",
            "+--------------------+\n",
            "only showing top 20 rows\n",
            "\n"
          ]
        }
      ]
    },
    {
      "cell_type": "code",
      "source": [
        "# Quantos filmes têm o título atual (“primary”) diferente do título original? Use uma combinação de filter, e count(). \n",
        "spark.sql \\\n",
        "(\"select  \\\n",
        "count(1) from  \\\n",
        "tb_titles b \\\n",
        "where \\\n",
        "b.originalTitle <> b.primaryTitle \\\n",
        "\").show()"
      ],
      "metadata": {
        "colab": {
          "base_uri": "https://localhost:8080/"
        },
        "id": "DSI-HVgeJ6UH",
        "outputId": "94567a9e-8b16-4d36-cbf4-0fa5e1d58c13"
      },
      "execution_count": 157,
      "outputs": [
        {
          "output_type": "stream",
          "name": "stdout",
          "text": [
            "+--------+\n",
            "|count(1)|\n",
            "+--------+\n",
            "|  125056|\n",
            "+--------+\n",
            "\n"
          ]
        }
      ]
    },
    {
      "cell_type": "code",
      "source": [
        "# Qual o filme que tem o nome mais longo?\n",
        "\n",
        "#Filter DataFrame by checking the length of a column\n",
        "from pyspark.sql.functions import col,length,trim\n",
        "\n",
        "df_titles.orderBy(length(col(\"primaryTitle\")).desc()).show()\n"
      ],
      "metadata": {
        "colab": {
          "base_uri": "https://localhost:8080/"
        },
        "id": "KyPY804QLMt3",
        "outputId": "85b6e7a0-5cd2-4ed9-e3b2-6832c0f61f1a"
      },
      "execution_count": 176,
      "outputs": [
        {
          "output_type": "stream",
          "name": "stdout",
          "text": [
            "+----------+---------+--------------------+--------------------+-------+---------+-------+--------------+--------------------+\n",
            "|    tconst|titleType|        primaryTitle|       originalTitle|isAdult|startYear|endYear|runtimeMinutes|              genres|\n",
            "+----------+---------+--------------------+--------------------+-------+---------+-------+--------------+--------------------+\n",
            "|tt12985206|    video|Otoko wa chi _ ko...|Otoko wa chi _ ko...|      1|     2020|     \\N|            99|               Adult|\n",
            "|tt13007080|    video|Creampie Voluntee...|Creampie Voluntee...|      1|     2015|     \\N|           238|               Adult|\n",
            "| tt7727908|    video|Yufukuna kurashi ...|Yufukuna kurashi ...|      1|     2013|     \\N|           129|         Adult,Drama|\n",
            "|tt12870546|    video|An Ultra K-Cup Ti...|An Ultra K-Cup Ti...|      1|     2020|     \\N|           118|               Adult|\n",
            "|tt12866892|    video|I'm A Dirty Old M...|I'm A Dirty Old M...|      1|     2016|     \\N|            \\N|               Adult|\n",
            "| tt7395478|    video|'Oppai dakenara s...|'Oppai dakenara s...|      1|     2017|     \\N|           241|               Adult|\n",
            "|tt13558536|    video|While Horsing Aro...|While Horsing Aro...|      1|     2020|     \\N|           102|               Adult|\n",
            "|tt13053838|    video|The Dumb Cunt Is ...|The Dumb Cunt Is ...|      1|     2020|     \\N|           112|               Adult|\n",
            "|tt13931914|tvEpisode|EE.UU. Se replieg...|EE.UU. Se replieg...|      0|     2019|     \\N|            \\N|                  \\N|\n",
            "| tt7509356|    video|Kanojo ni furaret...|Kanojo ni furaret...|      1|     2017|     \\N|           101|               Adult|\n",
            "|tt13278010|    video|This Son Was Secr...|This Son Was Secr...|      1|     2019|     \\N|           135|               Adult|\n",
            "|tt10813978|tvEpisode|Y- the total ease...|Y- the total ease...|      0|     2019|     \\N|            \\N|Biography,Comedy,...|\n",
            "|tt13009172|    video|I'm the Silent Ty...|I'm the Silent Ty...|      1|     2020|     \\N|           121|               Adult|\n",
            "|tt14128648|    video|'No, No, No! Your...|'No, No, No! Your...|      1|     2021|     \\N|           232|               Adult|\n",
            "|tt13356578|    video|An Up Close and P...|An Up Close and P...|      1|     2017|     \\N|           147|               Adult|\n",
            "| tt7298012|    video|O nichan tanjobio...|O nichan tanjobio...|      1|     2015|     \\N|           114|               Adult|\n",
            "| tt6271822|    video|Shoshika no sakko...|Shoshika no sakko...|      1|     2016|     \\N|           129|               Adult|\n",
            "|tt13006210|    video|Raguju TV 1145 ke...|Raguju TV 1145 ke...|      1|     2019|     \\N|            76|               Adult|\n",
            "|tt13109506|    video|Jikappu binyu gek...|Jikappu binyu gek...|      1|     2020|     \\N|            76|               Adult|\n",
            "|tt12842848|    video|A Fantastic Disco...|A Fantastic Disco...|      1|     2018|     \\N|           148|               Adult|\n",
            "+----------+---------+--------------------+--------------------+-------+---------+-------+--------------+--------------------+\n",
            "only showing top 20 rows\n",
            "\n"
          ]
        }
      ]
    },
    {
      "cell_type": "code",
      "source": [
        "# Qual o filme que tem o nome mais longo?\n",
        "spark.sql \\\n",
        "(\"select  \\\n",
        "length(primaryTitle),primaryTitle,tconst from  \\\n",
        "tb_titles b \\\n",
        "order by 1 desc \\\n",
        "LIMIT 10 \\\n",
        "\").show()"
      ],
      "metadata": {
        "colab": {
          "base_uri": "https://localhost:8080/"
        },
        "id": "JvMlCgRFMxim",
        "outputId": "f7dbff88-b436-4db0-9461-f8843f860114"
      },
      "execution_count": 186,
      "outputs": [
        {
          "output_type": "stream",
          "name": "stdout",
          "text": [
            "+--------------------+--------------------+----------+\n",
            "|length(primaryTitle)|        primaryTitle|    tconst|\n",
            "+--------------------+--------------------+----------+\n",
            "|                 419|Otoko wa chi _ ko...|tt12985206|\n",
            "|                 409|Creampie Voluntee...|tt13007080|\n",
            "|                 408|Yufukuna kurashi ...| tt7727908|\n",
            "|                 405|An Ultra K-Cup Ti...|tt12870546|\n",
            "|                 401|I'm A Dirty Old M...|tt12866892|\n",
            "|                 400|'Oppai dakenara s...| tt7395478|\n",
            "|                 386|While Horsing Aro...|tt13558536|\n",
            "|                 383|The Dumb Cunt Is ...|tt13053838|\n",
            "|                 368|EE.UU. Se replieg...|tt13931914|\n",
            "|                 366|Kanojo ni furaret...| tt7509356|\n",
            "+--------------------+--------------------+----------+\n",
            "\n"
          ]
        }
      ]
    },
    {
      "cell_type": "code",
      "source": [
        "df_ratings.describe().show()"
      ],
      "metadata": {
        "colab": {
          "base_uri": "https://localhost:8080/"
        },
        "id": "0VPYcihTMTo6",
        "outputId": "17f88b0e-a201-4516-8ecd-3a87b35a7eb0"
      },
      "execution_count": 187,
      "outputs": [
        {
          "output_type": "stream",
          "name": "stdout",
          "text": [
            "+-------+---------+------------------+-----------------+\n",
            "|summary|   tconst|     averageRating|         numVotes|\n",
            "+-------+---------+------------------+-----------------+\n",
            "|  count|  1182639|           1182639|          1182639|\n",
            "|   mean|     null| 6.917028357766265|973.0778656885153|\n",
            "| stddev|     null|1.3974964575775946|16275.70904325866|\n",
            "|    min|tt0000001|               1.0|                5|\n",
            "|    max|tt9916778|              10.0|          2449517|\n",
            "+-------+---------+------------------+-----------------+\n",
            "\n"
          ]
        }
      ]
    },
    {
      "cell_type": "code",
      "source": [
        "df_title_ratings.describe().filter(\"titleType = 'movie'\").show()"
      ],
      "metadata": {
        "colab": {
          "base_uri": "https://localhost:8080/"
        },
        "id": "czkZZw5RSE4c",
        "outputId": "89ef30ca-2670-4446-efb3-3e2b5cd2dfe6"
      },
      "execution_count": 203,
      "outputs": [
        {
          "output_type": "stream",
          "name": "stdout",
          "text": [
            "+-------+---------+---------+------------+-------------+-------+---------+-------+--------------+------+-------------+--------+\n",
            "|summary|   tconst|titleType|primaryTitle|originalTitle|isAdult|startYear|endYear|runtimeMinutes|genres|averageRating|numVotes|\n",
            "+-------+---------+---------+------------+-------------+-------+---------+-------+--------------+------+-------------+--------+\n",
            "|    min|tt0000001|    movie|      !Next?|       !Next?|      0|     1874|   1933|             0|Action|          1.0|       5|\n",
            "+-------+---------+---------+------------+-------------+-------+---------+-------+--------------+------+-------------+--------+\n",
            "\n"
          ]
        }
      ]
    },
    {
      "cell_type": "code",
      "source": [
        "# Gerando estatísticas descritivas da coluna \"numVotes\"\n",
        "df_desc = df_title_ratings.describe('numVotes')\n",
        "\n",
        "# Exibição das estatísticas descritivas\n",
        "df_desc.show()"
      ],
      "metadata": {
        "colab": {
          "base_uri": "https://localhost:8080/"
        },
        "id": "mwThKymVamXl",
        "outputId": "6e892910-82c4-4202-cc34-80be3e764f34"
      },
      "execution_count": 208,
      "outputs": [
        {
          "output_type": "stream",
          "name": "stdout",
          "text": [
            "+-------+------------------+\n",
            "|summary|          numVotes|\n",
            "+-------+------------------+\n",
            "|  count|           1182639|\n",
            "|   mean| 973.0778656885153|\n",
            "| stddev|16275.709043258397|\n",
            "|    min|                 5|\n",
            "|    max|           2449517|\n",
            "+-------+------------------+\n",
            "\n"
          ]
        }
      ]
    },
    {
      "cell_type": "code",
      "source": [
        "# Filtrando o DataFrame original para obter apenas as linhas com 750 votos\n",
        "df_max_votes = df_title_ratings.filter('numVotes = 2449517') \n",
        "\n",
        "# Exibição do resultado\n",
        "df_max_votes.show()"
      ],
      "metadata": {
        "colab": {
          "base_uri": "https://localhost:8080/"
        },
        "id": "ET_3tPCyas5J",
        "outputId": "3a0eb2e5-7fc0-41b0-e6b9-d4f7c3bef2e5"
      },
      "execution_count": 210,
      "outputs": [
        {
          "output_type": "stream",
          "name": "stdout",
          "text": [
            "+---------+---------+--------------------+--------------------+-------+---------+-------+--------------+------+-------------+--------+\n",
            "|   tconst|titleType|        primaryTitle|       originalTitle|isAdult|startYear|endYear|runtimeMinutes|genres|averageRating|numVotes|\n",
            "+---------+---------+--------------------+--------------------+-------+---------+-------+--------------+------+-------------+--------+\n",
            "|tt0111161|    movie|The Shawshank Red...|The Shawshank Red...|      0|     1994|     \\N|           142| Drama|          9.3| 2449517|\n",
            "+---------+---------+--------------------+--------------------+-------+---------+-------+--------------+------+-------------+--------+\n",
            "\n"
          ]
        }
      ]
    },
    {
      "cell_type": "code",
      "source": [
        "df_max_votes_movies = df_title_ratings.filter(\"titleType = 'movie'\")\n",
        "\n",
        "# Exibição do resultado\n",
        "df_max_votes_movies.show()"
      ],
      "metadata": {
        "colab": {
          "base_uri": "https://localhost:8080/"
        },
        "id": "4PIJ0sI0cOCw",
        "outputId": "ea32931e-4754-481e-d50a-bad7b7e97e01"
      },
      "execution_count": 211,
      "outputs": [
        {
          "output_type": "stream",
          "name": "stdout",
          "text": [
            "+---------+---------+--------------------+--------------------+-------+---------+-------+--------------+---------------+-------------+--------+\n",
            "|   tconst|titleType|        primaryTitle|       originalTitle|isAdult|startYear|endYear|runtimeMinutes|         genres|averageRating|numVotes|\n",
            "+---------+---------+--------------------+--------------------+-------+---------+-------+--------------+---------------+-------------+--------+\n",
            "|tt0000502|    movie|            Bohemios|            Bohemios|      0|     1905|     \\N|           100|             \\N|          4.5|      14|\n",
            "|tt0000630|    movie|              Hamlet|              Amleto|      0|     1908|     \\N|            \\N|          Drama|          3.8|      23|\n",
            "|tt0000675|    movie|         Don Quijote|         Don Quijote|      0|     1908|     \\N|            \\N|          Drama|          4.9|      19|\n",
            "|tt0000739|    movie|El pastorcito de ...|El pastorcito de ...|      0|     1908|     \\N|            \\N|          Drama|          6.3|      15|\n",
            "|tt0000793|    movie|       Andreas Hofer|       Andreas Hofer|      0|     1909|     \\N|            \\N|          Drama|          4.5|      19|\n",
            "|tt0000862|    movie|          Faldgruben|          Faldgruben|      0|     1909|     \\N|            \\N|             \\N|          5.1|      16|\n",
            "|tt0000941|    movie|      Locura de amor|      Locura de amor|      0|     1909|     \\N|            \\N|          Drama|          4.8|      23|\n",
            "|tt0000992|    movie|        De onde Veje|        De onde Veje|      0|     1909|     \\N|            \\N|             \\N|          4.8|      15|\n",
            "|tt0001028|    movie|          Salome Mad|          Salome Mad|      0|     1909|     \\N|            \\N|         Comedy|          4.3|      16|\n",
            "|tt0001038|    movie|  Sherlock Holmes VI|  Sherlock Holmes VI|      0|     1910|     \\N|            \\N|             \\N|          4.0|      20|\n",
            "|tt0001101|    movie|Abraham Lincoln's...|Abraham Lincoln's...|      0|     1910|     \\N|            \\N|             \\N|          5.2|      36|\n",
            "|tt0001112|    movie|              Amleto|              Amleto|      0|     1910|     \\N|            \\N|          Drama|          3.7|      36|\n",
            "|tt0001115|    movie|       Ansigttyven I|       Ansigttyven I|      0|     1910|     \\N|            \\N|          Crime|          4.7|      18|\n",
            "|tt0001122|    movie|         The Red Inn|     L'auberge rouge|      0|     1910|     \\N|            \\N|             \\N|          5.3|      18|\n",
            "|tt0001159|    movie|The Connecticut Y...|The Connecticut Y...|      0|     1910|     \\N|            \\N|             \\N|          5.6|      27|\n",
            "|tt0001184|    movie|Don Juan de Serra...|Don Juan de Serra...|      0|     1910|     \\N|            58|Adventure,Drama|          3.4|      19|\n",
            "|tt0001230|    movie|       Gentleman Joe|       Gentleman Joe|      0|     1910|     \\N|            \\N|             \\N|          5.0|      28|\n",
            "|tt0001277|    movie|         Kapergasten|         Kapergasten|      0|     1910|     \\N|            \\N|          Drama|          4.6|      22|\n",
            "|tt0001338|    movie|      A Night in May|Maiskaya noch, il...|      0|     1910|     \\N|            \\N|          Drama|          5.3|      15|\n",
            "|tt0001358|    movie|  Peder Tordenskjold|  Peder Tordenskjold|      0|     1910|     \\N|            \\N|             \\N|          4.2|      22|\n",
            "+---------+---------+--------------------+--------------------+-------+---------+-------+--------------+---------------+-------------+--------+\n",
            "only showing top 20 rows\n",
            "\n"
          ]
        }
      ]
    },
    {
      "cell_type": "code",
      "source": [
        "# Gerando estatísticas descritivas da coluna \"numVotes\"\n",
        "df_desc2 = df_max_votes_movies.describe('numVotes')\n",
        "\n",
        "# Exibição das estatísticas descritivas\n",
        "df_desc2.show()"
      ],
      "metadata": {
        "colab": {
          "base_uri": "https://localhost:8080/"
        },
        "id": "1OPHgNDTdJtY",
        "outputId": "9cec318a-b748-4fff-fc96-0fdfb3c8aa05"
      },
      "execution_count": 212,
      "outputs": [
        {
          "output_type": "stream",
          "name": "stdout",
          "text": [
            "+-------+-----------------+\n",
            "|summary|         numVotes|\n",
            "+-------+-----------------+\n",
            "|  count|           267542|\n",
            "|   mean|3413.902878800338|\n",
            "| stddev|32827.99730565559|\n",
            "|    min|                5|\n",
            "|    max|          2449517|\n",
            "+-------+-----------------+\n",
            "\n"
          ]
        }
      ]
    },
    {
      "cell_type": "code",
      "source": [
        "# Gerando estatísticas descritivas da coluna \"numVotes\"\n",
        "df_desc2 = df_max_votes_movies.describe('averageRating')\n",
        "\n",
        "# Exibição das estatísticas descritivas\n",
        "df_desc2.show()"
      ],
      "metadata": {
        "colab": {
          "base_uri": "https://localhost:8080/"
        },
        "id": "OmBHUXh7d0PJ",
        "outputId": "5e9859ed-dbe1-4e5a-e5e6-89ecb5e44a8d"
      },
      "execution_count": 213,
      "outputs": [
        {
          "output_type": "stream",
          "name": "stdout",
          "text": [
            "+-------+------------------+\n",
            "|summary|     averageRating|\n",
            "+-------+------------------+\n",
            "|  count|            267542|\n",
            "|   mean| 6.133833566318403|\n",
            "| stddev|1.3364291439362925|\n",
            "|    min|               1.0|\n",
            "|    max|              10.0|\n",
            "+-------+------------------+\n",
            "\n"
          ]
        }
      ]
    },
    {
      "cell_type": "code",
      "source": [
        "# Filtrando o DataFrame original para obter apenas as linhas com 750 votos\n",
        "df_max_votes = df_title_ratings.filter('numVotes = 2449517')\n",
        "\n",
        "# Exibição do resultado\n",
        "df_max_votes.show()"
      ],
      "metadata": {
        "id": "7VXNs2qyclwq"
      },
      "execution_count": null,
      "outputs": []
    },
    {
      "cell_type": "code",
      "source": [
        "df_title_ratings.filter(\"titleType = 'movie'\").show()"
      ],
      "metadata": {
        "colab": {
          "base_uri": "https://localhost:8080/"
        },
        "id": "Pvg2C7fPZK8l",
        "outputId": "aeb30351-738c-4d7f-e9ed-6710e90ebde0"
      },
      "execution_count": 202,
      "outputs": [
        {
          "output_type": "stream",
          "name": "stdout",
          "text": [
            "+---------+---------+--------------------+--------------------+-------+---------+-------+--------------+---------------+-------------+--------+\n",
            "|   tconst|titleType|        primaryTitle|       originalTitle|isAdult|startYear|endYear|runtimeMinutes|         genres|averageRating|numVotes|\n",
            "+---------+---------+--------------------+--------------------+-------+---------+-------+--------------+---------------+-------------+--------+\n",
            "|tt0000502|    movie|            Bohemios|            Bohemios|      0|     1905|     \\N|           100|             \\N|          4.5|      14|\n",
            "|tt0000630|    movie|              Hamlet|              Amleto|      0|     1908|     \\N|            \\N|          Drama|          3.8|      23|\n",
            "|tt0000675|    movie|         Don Quijote|         Don Quijote|      0|     1908|     \\N|            \\N|          Drama|          4.9|      19|\n",
            "|tt0000739|    movie|El pastorcito de ...|El pastorcito de ...|      0|     1908|     \\N|            \\N|          Drama|          6.3|      15|\n",
            "|tt0000793|    movie|       Andreas Hofer|       Andreas Hofer|      0|     1909|     \\N|            \\N|          Drama|          4.5|      19|\n",
            "|tt0000862|    movie|          Faldgruben|          Faldgruben|      0|     1909|     \\N|            \\N|             \\N|          5.1|      16|\n",
            "|tt0000941|    movie|      Locura de amor|      Locura de amor|      0|     1909|     \\N|            \\N|          Drama|          4.8|      23|\n",
            "|tt0000992|    movie|        De onde Veje|        De onde Veje|      0|     1909|     \\N|            \\N|             \\N|          4.8|      15|\n",
            "|tt0001028|    movie|          Salome Mad|          Salome Mad|      0|     1909|     \\N|            \\N|         Comedy|          4.3|      16|\n",
            "|tt0001038|    movie|  Sherlock Holmes VI|  Sherlock Holmes VI|      0|     1910|     \\N|            \\N|             \\N|          4.0|      20|\n",
            "|tt0001101|    movie|Abraham Lincoln's...|Abraham Lincoln's...|      0|     1910|     \\N|            \\N|             \\N|          5.2|      36|\n",
            "|tt0001112|    movie|              Amleto|              Amleto|      0|     1910|     \\N|            \\N|          Drama|          3.7|      36|\n",
            "|tt0001115|    movie|       Ansigttyven I|       Ansigttyven I|      0|     1910|     \\N|            \\N|          Crime|          4.7|      18|\n",
            "|tt0001122|    movie|         The Red Inn|     L'auberge rouge|      0|     1910|     \\N|            \\N|             \\N|          5.3|      18|\n",
            "|tt0001159|    movie|The Connecticut Y...|The Connecticut Y...|      0|     1910|     \\N|            \\N|             \\N|          5.6|      27|\n",
            "|tt0001184|    movie|Don Juan de Serra...|Don Juan de Serra...|      0|     1910|     \\N|            58|Adventure,Drama|          3.4|      19|\n",
            "|tt0001230|    movie|       Gentleman Joe|       Gentleman Joe|      0|     1910|     \\N|            \\N|             \\N|          5.0|      28|\n",
            "|tt0001277|    movie|         Kapergasten|         Kapergasten|      0|     1910|     \\N|            \\N|          Drama|          4.6|      22|\n",
            "|tt0001338|    movie|      A Night in May|Maiskaya noch, il...|      0|     1910|     \\N|            \\N|          Drama|          5.3|      15|\n",
            "|tt0001358|    movie|  Peder Tordenskjold|  Peder Tordenskjold|      0|     1910|     \\N|            \\N|             \\N|          4.2|      22|\n",
            "+---------+---------+--------------------+--------------------+-------+---------+-------+--------------+---------------+-------------+--------+\n",
            "only showing top 20 rows\n",
            "\n"
          ]
        }
      ]
    },
    {
      "cell_type": "code",
      "source": [
        "print(\"Distinct Count merge: \" + str(df_title_ratings.distinct().count()))"
      ],
      "metadata": {
        "colab": {
          "base_uri": "https://localhost:8080/"
        },
        "id": "Us1uvGorSWmr",
        "outputId": "f909c9a4-c323-41c2-c75b-9b7302341900"
      },
      "execution_count": 197,
      "outputs": [
        {
          "output_type": "stream",
          "name": "stdout",
          "text": [
            "Distinct Count merge: 1182639\n"
          ]
        }
      ]
    },
    {
      "cell_type": "code",
      "source": [
        "df_title_ratings.show()"
      ],
      "metadata": {
        "colab": {
          "base_uri": "https://localhost:8080/"
        },
        "id": "RoOuHFLVS7qk",
        "outputId": "fa17d7b7-5430-4be5-fc6f-4e269b97cf08"
      },
      "execution_count": 196,
      "outputs": [
        {
          "output_type": "stream",
          "name": "stdout",
          "text": [
            "+---------+---------+--------------------+--------------------+-------+---------+-------+--------------+--------------------+-------------+--------+\n",
            "|   tconst|titleType|        primaryTitle|       originalTitle|isAdult|startYear|endYear|runtimeMinutes|              genres|averageRating|numVotes|\n",
            "+---------+---------+--------------------+--------------------+-------+---------+-------+--------------+--------------------+-------------+--------+\n",
            "|tt0000008|    short|Edison Kinetoscop...|Edison Kinetoscop...|      0|     1894|     \\N|             1|   Documentary,Short|          5.5|    1965|\n",
            "|tt0000015|    short| Autour d'une cabine| Autour d'une cabine|      0|     1894|     \\N|             2|     Animation,Short|          6.2|     947|\n",
            "|tt0000019|    short|    The Clown Barber|    The Clown Barber|      0|     1898|     \\N|            \\N|        Comedy,Short|          5.3|      28|\n",
            "|tt0000051|    short|The Bohemian Enca...|Campement de bohé...|      0|     1896|     \\N|            \\N|   Documentary,Short|          3.7|      31|\n",
            "|tt0000058|    short|Cortège de tzar a...|Cortège de tzar a...|      0|     1896|     \\N|            \\N|   Documentary,Short|          4.3|      28|\n",
            "|tt0000065|    short|Dessinateur: Rein...|Dessinateur: Rein...|      0|     1896|     \\N|            \\N|               Short|          3.4|      24|\n",
            "|tt0000095|    short|The Mysterious Paper|    Le papier protée|      0|     1896|     \\N|            \\N|               Short|          4.8|      31|\n",
            "|tt0000108|    short|Rip Leaving Sleep...|Rip Leaving Sleep...|      0|     1896|     \\N|             1|         Drama,Short|          4.4|     509|\n",
            "|tt0000142|    short|Buffalo Bill and ...|Buffalo Bill and ...|      0|     1897|     \\N|            \\N|          News,Short|          4.7|      28|\n",
            "|tt0000145|    short|           En classe|           En classe|      0|     1897|     \\N|            \\N|        Comedy,Short|          3.8|      12|\n",
            "|tt0000146|    short|Le cocher de fiac...|Le cocher de fiac...|      0|     1897|     \\N|            \\N|        Comedy,Short|          5.1|      25|\n",
            "|tt0000169|    short|Slagsmål i gamla ...|Slagsmål i gamla ...|      0|     1897|     \\N|             1|               Short|          3.9|      38|\n",
            "|tt0000172|    short|     The X-Ray Fiend|     The X-Ray Fiend|      0|     1897|     \\N|             1| Comedy,Horror,Short|          6.1|     796|\n",
            "|tt0000174|    short|Výstavní párkar a...|Výstavní párkar a...|      0|     1898|     \\N|             1|        Comedy,Short|          4.7|     117|\n",
            "|tt0000175|    short|A Sea Cave Near L...|A Sea Cave Near L...|      0|     1896|     \\N|             1|   Documentary,Short|          5.0|     196|\n",
            "|tt0000186|    short|   Le cuirassé Maine|   Le cuirassé Maine|      0|     1898|     \\N|            \\N|           Short,War|          4.2|      21|\n",
            "|tt0000188|    short|        The Deserter|        The Deserter|      0|     1898|     \\N|            \\N|         Drama,Short|          4.0|      11|\n",
            "|tt0000214|    short|Tearing Down the ...|Tearing Down the ...|      0|     1898|     \\N|            \\N|           Short,War|          4.5|      87|\n",
            "|tt0000242|    short|The Sign of the C...|Le diable au couvent|      0|     1899|     \\N|             3|Fantasy,Horror,Short|          6.4|    1074|\n",
            "|tt0000264|    short|Summoning the Spi...|   Évocation spirite|      0|     1899|     \\N|             1|Fantasy,Horror,Short|          5.7|     404|\n",
            "+---------+---------+--------------------+--------------------+-------+---------+-------+--------------+--------------------+-------------+--------+\n",
            "only showing top 20 rows\n",
            "\n"
          ]
        }
      ]
    }
  ]
}